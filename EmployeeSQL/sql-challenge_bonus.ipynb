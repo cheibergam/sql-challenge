{
 "cells": [
  {
   "cell_type": "markdown",
   "id": "c5f1a767",
   "metadata": {},
   "source": [
    "# SQL Challenge - Bonus\n",
    "\n",
    "As you examine the data, you begin to suspect that the dataset is fake. Maybe, your boss gave you spurious data to test the data engineering skills of a new employee? To confirm your hunch, you decide to create a visualization of the data to present to your boss. To do so, complete the following steps:\n",
    "\n",
    "#### 1) Import the SQL database into Pandas. (Although you could read the CSV files directly in Pandas, you’re trying to prove your technical resourcefulness.) Note that this step might require some research. Feel free to use the following code to get started (where <your_db_name> is your database name):"
   ]
  },
  {
   "cell_type": "code",
   "execution_count": 1,
   "id": "bb170ca3",
   "metadata": {},
   "outputs": [],
   "source": [
    "from sqlalchemy import create_engine\n",
    "import pandas as pd\n",
    "import matplotlib.pyplot as plt\n",
    "import seaborn as sns\n",
    "\n",
    "# Import postgress_credentials\n",
    "from db_credentials import postgress_credentials"
   ]
  },
  {
   "cell_type": "code",
   "execution_count": 2,
   "id": "bac0acb7",
   "metadata": {},
   "outputs": [],
   "source": [
    "postgres_connection = f'postgresql://localhost/Employee?{postgress_credentials}'\n",
    "engine = create_engine(postgres_connection)\n",
    "connection = engine.connect()"
   ]
  },
  {
   "cell_type": "code",
   "execution_count": 3,
   "id": "8fa32a66",
   "metadata": {},
   "outputs": [
    {
     "data": {
      "text/html": [
       "<div>\n",
       "<style scoped>\n",
       "    .dataframe tbody tr th:only-of-type {\n",
       "        vertical-align: middle;\n",
       "    }\n",
       "\n",
       "    .dataframe tbody tr th {\n",
       "        vertical-align: top;\n",
       "    }\n",
       "\n",
       "    .dataframe thead th {\n",
       "        text-align: right;\n",
       "    }\n",
       "</style>\n",
       "<table border=\"1\" class=\"dataframe\">\n",
       "  <thead>\n",
       "    <tr style=\"text-align: right;\">\n",
       "      <th></th>\n",
       "      <th>emp_no</th>\n",
       "      <th>emp_title_id</th>\n",
       "      <th>birth_date</th>\n",
       "      <th>first_name</th>\n",
       "      <th>last_name</th>\n",
       "      <th>sex</th>\n",
       "      <th>hire_date</th>\n",
       "    </tr>\n",
       "  </thead>\n",
       "  <tbody>\n",
       "    <tr>\n",
       "      <th>0</th>\n",
       "      <td>473302</td>\n",
       "      <td>s0001</td>\n",
       "      <td>1953-07-25</td>\n",
       "      <td>Hideyuki</td>\n",
       "      <td>Zallocco</td>\n",
       "      <td>M</td>\n",
       "      <td>1990-04-28</td>\n",
       "    </tr>\n",
       "    <tr>\n",
       "      <th>1</th>\n",
       "      <td>475053</td>\n",
       "      <td>e0002</td>\n",
       "      <td>1954-11-18</td>\n",
       "      <td>Byong</td>\n",
       "      <td>Delgrande</td>\n",
       "      <td>F</td>\n",
       "      <td>1991-09-07</td>\n",
       "    </tr>\n",
       "    <tr>\n",
       "      <th>2</th>\n",
       "      <td>57444</td>\n",
       "      <td>e0002</td>\n",
       "      <td>1958-01-30</td>\n",
       "      <td>Berry</td>\n",
       "      <td>Babb</td>\n",
       "      <td>F</td>\n",
       "      <td>1992-03-21</td>\n",
       "    </tr>\n",
       "    <tr>\n",
       "      <th>3</th>\n",
       "      <td>421786</td>\n",
       "      <td>s0001</td>\n",
       "      <td>1957-09-28</td>\n",
       "      <td>Xiong</td>\n",
       "      <td>Verhoeff</td>\n",
       "      <td>M</td>\n",
       "      <td>1987-11-26</td>\n",
       "    </tr>\n",
       "    <tr>\n",
       "      <th>4</th>\n",
       "      <td>282238</td>\n",
       "      <td>e0003</td>\n",
       "      <td>1952-10-28</td>\n",
       "      <td>Abdelkader</td>\n",
       "      <td>Baumann</td>\n",
       "      <td>F</td>\n",
       "      <td>1991-01-18</td>\n",
       "    </tr>\n",
       "  </tbody>\n",
       "</table>\n",
       "</div>"
      ],
      "text/plain": [
       "   emp_no emp_title_id  birth_date  first_name  last_name sex   hire_date\n",
       "0  473302        s0001  1953-07-25    Hideyuki   Zallocco   M  1990-04-28\n",
       "1  475053        e0002  1954-11-18       Byong  Delgrande   F  1991-09-07\n",
       "2   57444        e0002  1958-01-30       Berry       Babb   F  1992-03-21\n",
       "3  421786        s0001  1957-09-28       Xiong   Verhoeff   M  1987-11-26\n",
       "4  282238        e0003  1952-10-28  Abdelkader    Baumann   F  1991-01-18"
      ]
     },
     "execution_count": 3,
     "metadata": {},
     "output_type": "execute_result"
    }
   ],
   "source": [
    "# Creating the Data Frame with the selected data to test database connectivity\n",
    "sql_query = \"SELECT * FROM employee\"\n",
    "data_employee = pd.read_sql(sql_query, connection)\n",
    "data_employee.head()"
   ]
  },
  {
   "cell_type": "markdown",
   "id": "38f5b703",
   "metadata": {},
   "source": [
    "#### 2) Create a histogram to visualize the employee salary ranges that were the most common."
   ]
  },
  {
   "cell_type": "code",
   "execution_count": 4,
   "id": "177ee8eb",
   "metadata": {},
   "outputs": [],
   "source": [
    "# Creating the Data Frame with the selected data to plot in the histogram\n",
    "sql_query = \"SELECT s.salary FROM salary AS s INNER JOIN employee AS e ON e.emp_no = s.emp_no\"\n",
    "data_salary_range = pd.read_sql(sql_query, connection)"
   ]
  },
  {
   "cell_type": "code",
   "execution_count": 5,
   "id": "f1fc98d1",
   "metadata": {},
   "outputs": [
    {
     "data": {
      "image/png": "[encoded data removed]",
      "text/plain": [
       "<Figure size 432x288 with 1 Axes>"
      ]
     },
     "metadata": {
      "needs_background": "light"
     },
     "output_type": "display_data"
    }
   ],
   "source": [
    "# Histogram to visualize the employee salary ranges that were the most common.\n",
    "N, bins, patches = plt.hist(data_salary_range , bins=20 , density=True, facecolor='g', alpha=0.7)\n",
    "plt.title(\"Employee Salary Histogram\")\n",
    "plt.xlabel(\"Employee Salary\")\n",
    "plt.xticks(rotation=\"vertical\")\n",
    "plt.grid()"
   ]
  },
  {
   "cell_type": "markdown",
   "id": "0fed7498",
   "metadata": {},
   "source": [
    "#### 3) Create a bar chart of average salary by title."
   ]
  },
  {
   "cell_type": "code",
   "execution_count": 6,
   "id": "d1905e97",
   "metadata": {},
   "outputs": [],
   "source": [
    "# Creating the Data Frame with the selected data to plot in the bar chart of average salary by title\n",
    "sql_query = \"SELECT t.title, ROUND(AVG(s.salary),2) FROM title AS t INNER JOIN employee AS e ON t.title_id = e.emp_title_id INNER JOIN salary AS s ON s.emp_no = e.emp_no GROUP BY t.title\"\n",
    "data_title_salary = pd.read_sql(\"select t.title, round(avg(s.salary),2) from title as t inner join employee as e on t.title_id = e.emp_title_id inner join salary as s on s.emp_no = e.emp_no group by t.title\", connection)"
   ]
  },
  {
   "cell_type": "code",
   "execution_count": 7,
   "id": "ef263089",
   "metadata": {},
   "outputs": [
    {
     "data": {
      "image/png": "[encoded data removed]",
      "text/plain": [
       "<Figure size 432x288 with 1 Axes>"
      ]
     },
     "metadata": {
      "needs_background": "light"
     },
     "output_type": "display_data"
    }
   ],
   "source": [
    "# Creating the plot using Matplotlib's pyplot methods\n",
    "sns.barplot(x=data_title_salary[\"title\"], y=data_title_salary[\"round\"])\n",
    "plt.title(\"Employee Average Salary\")\n",
    "plt.xlabel(\"Employee Title\")\n",
    "plt.ylabel(\"Average Salary\")\n",
    "plt.xticks(rotation=\"vertical\")\n",
    "plt.grid()"
   ]
  }
 ],
 "metadata": {
  "kernelspec": {
   "display_name": "Python 3 (ipykernel)",
   "language": "python",
   "name": "python3"
  },
  "language_info": {
   "codemirror_mode": {
    "name": "ipython",
    "version": 3
   },
   "file_extension": ".py",
   "mimetype": "text/x-python",
   "name": "python",
   "nbconvert_exporter": "python",
   "pygments_lexer": "ipython3",
   "version": "3.9.12"
  },
  "vscode": {
   "interpreter": {
    "hash": "ead1b95f633dc9c51826328e1846203f51a198c6fb5f2884a80417ba131d4e82"
   }
  }
 },
 "nbformat": 4,
 "nbformat_minor": 5
}
